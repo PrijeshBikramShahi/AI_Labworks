{
  "nbformat": 4,
  "nbformat_minor": 0,
  "metadata": {
    "colab": {
      "provenance": []
    },
    "kernelspec": {
      "name": "python3",
      "display_name": "Python 3"
    },
    "language_info": {
      "name": "python"
    }
  },
  "cells": [
    {
      "cell_type": "code",
      "execution_count": 1,
      "metadata": {
        "colab": {
          "base_uri": "https://localhost:8080/"
        },
        "id": "bfvihAjqX3Nk",
        "outputId": "787c1c45-fad4-4a47-824b-f67d3d86872f"
      },
      "outputs": [
        {
          "output_type": "stream",
          "name": "stdout",
          "text": [
            "Following is the Breadth-First Search\n",
            "A->B->C->D->E->F->G->H->I"
          ]
        }
      ],
      "source": [
        "# BFS Implementation\n",
        "graph = {\n",
        "    'A': ['B', 'C'],\n",
        "    'B': ['D', 'E'],\n",
        "    'C': ['F'],\n",
        "    'D': ['G', 'H'],\n",
        "    'E': ['I'],\n",
        "    'F': [],\n",
        "    'G': [],\n",
        "    'H': [],\n",
        "    'I': []\n",
        "}\n",
        "\n",
        "visited = []  # List for visited nodes\n",
        "queue = []    # Initialize a queue\n",
        "\n",
        "def bfs(visited, graph, node):\n",
        "    visited.append(node)\n",
        "    queue.append(node)\n",
        "\n",
        "    while queue:\n",
        "        m = queue.pop(0)  # Pop the first element in the queue\n",
        "        print(m, end='->' if m != 'I' else '')  # Print current node\n",
        "\n",
        "        # Add all unvisited neighbors to the queue\n",
        "        for neighbour in graph[m]:\n",
        "            if neighbour not in visited:\n",
        "                visited.append(neighbour)\n",
        "                queue.append(neighbour)\n",
        "\n",
        "print(\"Following is the Breadth-First Search\")\n",
        "bfs(visited, graph, 'A')\n"
      ]
    },
    {
      "cell_type": "code",
      "source": [
        "# DFS Implementation\n",
        "graph = {\n",
        "    'A': ['B', 'C'],\n",
        "    'B': ['D', 'E'],\n",
        "    'C': ['F'],\n",
        "    'D': ['G', 'H'],\n",
        "    'E': ['I'],\n",
        "    'F': [],\n",
        "    'G': [],\n",
        "    'H': [],\n",
        "    'I': []\n",
        "}\n",
        "\n",
        "visited = set()  # Set to store visited nodes\n",
        "\n",
        "def dfs(visited, graph, node):\n",
        "    if node not in visited:\n",
        "        print(node, end='->' if node != 'I' else '')  # Print current node\n",
        "        visited.add(node)  # Mark the node as visited\n",
        "\n",
        "        # Recur for all neighbors\n",
        "        for neighbour in graph[node]:\n",
        "            dfs(visited, graph, neighbour)\n",
        "\n",
        "print(\"Following is the Depth-First Search\")\n",
        "dfs(visited, graph, 'A')\n"
      ],
      "metadata": {
        "colab": {
          "base_uri": "https://localhost:8080/"
        },
        "id": "psOAfTBXX5Xa",
        "outputId": "24f42e9a-d4da-49a9-d387-0ee6ee14f8a1"
      },
      "execution_count": 2,
      "outputs": [
        {
          "output_type": "stream",
          "name": "stdout",
          "text": [
            "Following is the Depth-First Search\n",
            "A->B->D->G->H->E->IC->F->"
          ]
        }
      ]
    },
    {
      "cell_type": "code",
      "source": [
        "# A* Search Algorithm Implementation\n",
        "adj_list = {\n",
        "    's': [('a', 1), ('g', 10)],\n",
        "    'a': [('b', 2), ('c', 1)],\n",
        "    'b': [('d', 5)],\n",
        "    'c': [('d', 3), ('g', 4)],\n",
        "    'd': [('g', 2)],\n",
        "    'g': []\n",
        "}\n",
        "\n",
        "heuristic = {\n",
        "    's': 5,\n",
        "    'a': 3,\n",
        "    'b': 4,\n",
        "    'c': 2,\n",
        "    'd': 6,\n",
        "    'g': 0\n",
        "}\n",
        "\n",
        "def astar_search(adj_list, heuristic, start_node, goal_node):\n",
        "    open_list = set([start_node])\n",
        "    closed_list = set([])\n",
        "\n",
        "    # Store g values\n",
        "    g = {start_node: 0}\n",
        "\n",
        "    # Parents map for path reconstruction\n",
        "    parents = {start_node: start_node}\n",
        "\n",
        "    def get_neighbors(node):\n",
        "        return adj_list[node]\n",
        "\n",
        "    def h(node):\n",
        "        return heuristic[node]\n",
        "\n",
        "    while open_list:\n",
        "        n = None\n",
        "\n",
        "        # Find the node with the lowest f score\n",
        "        for v in open_list:\n",
        "            if n == None or g[v] + h(v) < g[n] + h(n):\n",
        "                n = v\n",
        "\n",
        "        if n == None:\n",
        "            print('Path does not exist!')\n",
        "            return None\n",
        "\n",
        "        if n == goal_node:\n",
        "            # Reconstruct path\n",
        "            reconst_path = []\n",
        "            while parents[n] != n:\n",
        "                reconst_path.append(n)\n",
        "                n = parents[n]\n",
        "            reconst_path.append(start_node)\n",
        "            reconst_path.reverse()\n",
        "\n",
        "            print('Path found: {}'.format(reconst_path))\n",
        "            return reconst_path\n",
        "\n",
        "        # Loop through all neighbors of n\n",
        "        for (m, weight) in get_neighbors(n):\n",
        "            if m not in open_list and m not in closed_list:\n",
        "                open_list.add(m)\n",
        "                parents[m] = n\n",
        "                g[m] = g[n] + weight\n",
        "            else:\n",
        "                if g[m] > g[n] + weight:\n",
        "                    g[m] = g[n] + weight\n",
        "                    parents[m] = n\n",
        "\n",
        "                    if m in closed_list:\n",
        "                        closed_list.remove(m)\n",
        "                        open_list.add(m)\n",
        "\n",
        "        open_list.remove(n)\n",
        "        closed_list.add(n)\n",
        "\n",
        "    print('Path does not exist!')\n",
        "    return None\n",
        "\n",
        "print(\"----- A star search -----\")\n",
        "start_node = input(\"Enter the start node: \")\n",
        "goal_node = input(\"Enter the goal node: \")\n",
        "astar_search(adj_list, heuristic, start_node, goal_node)\n"
      ],
      "metadata": {
        "colab": {
          "base_uri": "https://localhost:8080/"
        },
        "id": "ftWzNDerX_Nj",
        "outputId": "f598b710-c5be-4060-a546-7082a91d451a"
      },
      "execution_count": 5,
      "outputs": [
        {
          "output_type": "stream",
          "name": "stdout",
          "text": [
            "----- A star search -----\n",
            "Enter the start node: s\n",
            "Enter the goal node: g\n",
            "Path found: ['s', 'a', 'c', 'g']\n"
          ]
        },
        {
          "output_type": "execute_result",
          "data": {
            "text/plain": [
              "['s', 'a', 'c', 'g']"
            ]
          },
          "metadata": {},
          "execution_count": 5
        }
      ]
    },
    {
      "cell_type": "code",
      "source": [],
      "metadata": {
        "id": "HB_59KDtX_yX"
      },
      "execution_count": null,
      "outputs": []
    }
  ]
}